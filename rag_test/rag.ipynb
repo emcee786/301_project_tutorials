{
 "cells": [
  {
   "cell_type": "code",
   "execution_count": 1,
   "metadata": {},
   "outputs": [],
   "source": [
    "import os\n",
    "from dotenv import load_dotenv\n",
    "\n",
    "load_dotenv()\n",
    "\n",
    "OPENAI_API_KEY = os.getenv(\"OPENAI_API_KEY\")\n",
    "\n",
    "# This is the YouTube video we're going to use.\n",
    "YOUTUBE_VIDEO = \"https://youtu.be/Az9InkxkQQ8\""
   ]
  },
  {
   "cell_type": "code",
   "execution_count": 2,
   "metadata": {},
   "outputs": [
    {
     "name": "stderr",
     "output_type": "stream",
     "text": [
      "/Users/emmacorkery/opt/anaconda3/envs/slack_ai/lib/python3.10/site-packages/langchain_core/_api/deprecation.py:119: LangChainDeprecationWarning: The class `ChatOpenAI` was deprecated in LangChain 0.0.10 and will be removed in 0.2.0. An updated version of the class exists in the langchain-openai package and should be used instead. To use it run `pip install -U langchain-openai` and import as `from langchain_openai import ChatOpenAI`.\n",
      "  warn_deprecated(\n"
     ]
    }
   ],
   "source": [
    "from langchain_community.chat_models import ChatOpenAI\n",
    "\n",
    "model = ChatOpenAI(openai_api_key=OPENAI_API_KEY, model=\"gpt-3.5-turbo\")"
   ]
  },
  {
   "cell_type": "markdown",
   "metadata": {},
   "source": [
    "Asking a question to test the model."
   ]
  },
  {
   "cell_type": "code",
   "execution_count": 3,
   "metadata": {},
   "outputs": [
    {
     "data": {
      "text/plain": [
       "AIMessage(content='The capital of Australia is Canberra.', response_metadata={'token_usage': {'completion_tokens': 7, 'prompt_tokens': 14, 'total_tokens': 21}, 'model_name': 'gpt-3.5-turbo', 'system_fingerprint': None, 'finish_reason': 'stop', 'logprobs': None}, id='run-1391bbca-9e31-4348-a9c8-b4cbbac8e37c-0')"
      ]
     },
     "execution_count": 3,
     "metadata": {},
     "output_type": "execute_result"
    }
   ],
   "source": [
    "\n",
    "model.invoke(\"What is the capital of Australia?\")"
   ]
  },
  {
   "cell_type": "markdown",
   "metadata": {},
   "source": [
    "Use an output parser to take the LLM output and transform into a more suitable format"
   ]
  },
  {
   "cell_type": "code",
   "execution_count": 4,
   "metadata": {},
   "outputs": [
    {
     "data": {
      "text/plain": [
       "'The capital of New Zealand is Wellington.'"
      ]
     },
     "execution_count": 4,
     "metadata": {},
     "output_type": "execute_result"
    }
   ],
   "source": [
    "\n",
    "from langchain_core.output_parsers import StrOutputParser\n",
    "\n",
    "parser = StrOutputParser()\n",
    "\n",
    "chain = model | parser\n",
    "chain.invoke(\"What is the capital of New Zealand?\")"
   ]
  },
  {
   "cell_type": "markdown",
   "metadata": {},
   "source": [
    "Introduce prompt templates. Prompt Templates Prompt templates are predefined recipes for generating prompts for language models."
   ]
  },
  {
   "cell_type": "code",
   "execution_count": 5,
   "metadata": {},
   "outputs": [
    {
     "data": {
      "text/plain": [
       "'Human: \\nAnswer the question based on the context below. If you can\\'t \\nanswer the question, reply \"I don\\'t know\".\\n\\nContext: The kiwi is a flightless bird native to New Zealand.\\n\\nQuestion: What is a flightless bird native to New Zealand?\\n'"
      ]
     },
     "execution_count": 5,
     "metadata": {},
     "output_type": "execute_result"
    }
   ],
   "source": [
    "from langchain.prompts import ChatPromptTemplate\n",
    "\n",
    "template = \"\"\"\n",
    "Answer the question based on the context below. If you can't \n",
    "answer the question, reply \"I don't know\".\n",
    "\n",
    "Context: {context}\n",
    "\n",
    "Question: {question}\n",
    "\"\"\"\n",
    "\n",
    "prompt = ChatPromptTemplate.from_template(template)\n",
    "prompt.format(context=\"The kiwi is a flightless bird native to New Zealand.\", question=\"What is a flightless bird native to New Zealand?\")"
   ]
  },
  {
   "cell_type": "markdown",
   "metadata": {},
   "source": [
    "Chain the prompt with the model and the output parser."
   ]
  },
  {
   "cell_type": "code",
   "execution_count": 6,
   "metadata": {},
   "outputs": [
    {
     "data": {
      "text/plain": [
       "'The kiwi.'"
      ]
     },
     "execution_count": 6,
     "metadata": {},
     "output_type": "execute_result"
    }
   ],
   "source": [
    "chain = prompt | model | parser\n",
    "chain.invoke({\n",
    "    \"context\": \"The kiwi is a flightless bird native to New Zealand.\",\n",
    "    \"question\": \"What is a flightless bird native to New Zealand?\"\n",
    "})"
   ]
  },
  {
   "cell_type": "markdown",
   "metadata": {},
   "source": [
    "Combine different chains to create complex workflows. Now create a second chain that translates the answer from the first chain into a different language.\n",
    "\n",
    "Create a new prompt template for the translation chain:"
   ]
  },
  {
   "cell_type": "code",
   "execution_count": 7,
   "metadata": {},
   "outputs": [],
   "source": [
    "translation_prompt = ChatPromptTemplate.from_template(\n",
    "    \"Translate {answer} to {language}\"\n",
    ")\n"
   ]
  },
  {
   "cell_type": "code",
   "execution_count": 8,
   "metadata": {},
   "outputs": [
    {
     "data": {
      "text/plain": [
       "'E rima ngā rākau tautoko i ngā rākau kiwi.'"
      ]
     },
     "execution_count": 8,
     "metadata": {},
     "output_type": "execute_result"
    }
   ],
   "source": [
    "from operator import itemgetter\n",
    "\n",
    "translation_chain = (\n",
    "    {\"answer\": chain, \"language\": itemgetter(\"language\")} | translation_prompt | model | parser\n",
    ")\n",
    "\n",
    "translation_chain.invoke(\n",
    "    {\n",
    "        \"context\": \"These are the recognized species of kiwi, all of which are native to New Zealand: North Island Brown Kiwi, South Island Brown Kiwi, Rowi, Haast Tokoeka, Little Spotted Kiwi. \",\n",
    "        \"question\": \"How many species of kiwi are there?\",\n",
    "        \"language\": \"Te reo\",\n",
    "    }\n",
    ")"
   ]
  },
  {
   "cell_type": "markdown",
   "metadata": {},
   "source": [
    "Transcribing the YouTube Video\n",
    "download the video and transcribe it using OpenAI's Whisper."
   ]
  },
  {
   "cell_type": "code",
   "execution_count": 9,
   "metadata": {},
   "outputs": [],
   "source": [
    "import tempfile\n",
    "import whisper\n",
    "from pytube import YouTube\n",
    "\n",
    "\n",
    "# Let's do this only if we haven't created the transcription file yet.\n",
    "if not os.path.exists(\"transcription.txt\"):\n",
    "    youtube = YouTube(YOUTUBE_VIDEO)\n",
    "    audio = youtube.streams.filter(only_audio=True).first()\n",
    "\n",
    "    # Let's load the base model. This is not the most accurate\n",
    "    # model but it's fast.\n",
    "    whisper_model = whisper.load_model(\"base\")\n",
    "\n",
    "    with tempfile.TemporaryDirectory() as tmpdir:\n",
    "        file = audio.download(output_path=tmpdir)\n",
    "        transcription = whisper_model.transcribe(file, fp16=False)[\"text\"].strip()\n",
    "\n",
    "        with open(\"transcription.txt\", \"w\") as file:\n",
    "            file.write(transcription)"
   ]
  },
  {
   "cell_type": "markdown",
   "metadata": {},
   "source": [
    " read the transcription and display the first few characters to ensure everything works as expected."
   ]
  },
  {
   "cell_type": "code",
   "execution_count": 10,
   "metadata": {},
   "outputs": [
    {
     "data": {
      "text/plain": [
       "\"Hello everyone, I hope you're doing well and of course Arnie does too. Now for today's invasive spec\""
      ]
     },
     "execution_count": 10,
     "metadata": {},
     "output_type": "execute_result"
    }
   ],
   "source": [
    "with open(\"transcription.txt\") as file:\n",
    "    transcription = file.read()\n",
    "\n",
    "transcription[:100]"
   ]
  },
  {
   "cell_type": "markdown",
   "metadata": {},
   "source": [
    "Using the entire transcription as context\n",
    "If we try to invoke the chain using the transcription as context, the model will return an error because the context is too long.\n",
    "\n",
    "Large Language Models support limitted context sizes. The video we are using is too long for the model to handle, so we need to find a different solution."
   ]
  },
  {
   "cell_type": "markdown",
   "metadata": {},
   "source": []
  },
  {
   "cell_type": "code",
   "execution_count": 11,
   "metadata": {},
   "outputs": [],
   "source": [
    "\n",
    "try:\n",
    "    chain.invoke({\n",
    "        \"context\": transcription,\n",
    "        \"question\": \"When was the brushtail possum introduced to NZ?\"\n",
    "    })\n",
    "except Exception as e:\n",
    "    print(e)"
   ]
  },
  {
   "cell_type": "markdown",
   "metadata": {},
   "source": [
    "Splitting the transcription"
   ]
  },
  {
   "cell_type": "code",
   "execution_count": 12,
   "metadata": {},
   "outputs": [
    {
     "data": {
      "text/plain": [
       "[Document(page_content=\"Hello everyone, I hope you're doing well and of course Arnie does too. Now for today's invasive species episode, we'll be heading to the beautiful country of New Zealand. Now New Zealand's been separated from the rest of the world for around 20 million years, and because of this it has a very fragile leaco system, which is mainly dominated by large birds, and as there are only two native species of mammal on New Zealand, for a long time it's been a bird's paradise, as they could happily walk on the ground, without any risk and predation. But unfortunately today this is all changed, as I will be going through five invasive species found in New Zealand. And our first species is native to nearby Australia, and it is the common brush tail possum. Now this small mammal is a marsupial and is most active at night, and although it looks quite innocent and cute, it does have a bit of a dark side, as it does feed on various forms of vegetation, such as leaves, fruits and flowers, but it's also quite an efficient predator, feeling on insects, birds and small mammals. Like many other intelligent mammals, the brush tail possum also does very well in cities, and they're known to wander around at night and even enter people's homes. These small marsupials were first introduced into New Zealand in 1837. They were transported here by settlers, with the idea of farming them for their fur. But this first introduction was unsuccessful, and they were reintroduced in 1858, and this introduction had disastrous consequences for the ecosystem, mainly due down to their adaptability and their adventurous diet. As brush tail possum spend a lot of their time in the tree tops, where they freely feed on birds and their eggs. And as I've covered previously, New Zealand was once a safe haven for birds, as there were almost no natural predators, and as these birds have had nothing to fear, they were not well equipped to deal with a new predator in their ecosystem. There wasn't just a bird that suffered, as these possums also fed on the native invertebrates, and are known carriers of bovine tuberculosis. And as New Zealand has a large farming industry, it costs them around 35 million dollars per year. And as there are no natural predators for the brush tail possum in New Zealand, they've been able to multiply at an astonishing rate, as in the early 2000s, total population estimates range from around 50 million to 70 million. And as there are only 4.9 million people in New Zealand today, this really is an astonishing number. But this growth and the damage that they cause, there are plenty of efforts to control their numbers, and hopefully the ecosystem will be able to bounce back. But our next species can be found pretty much anywhere, as we have the Koi carp. Now Koi carp have to be some of the most popular, and sought after pond fish in the world. But when these fish are found outside of a pond, they can cause major problems to not only New Zealand, but many other ecosystem around the world. Organized Koi breeding began in Japan in the early 19th century, and since then many strains have been created, and high quality Koi can sell for millions. And as Koi can reach a maximum size of around a meter of 39 inches, they can really damage the health of New Zealand's rivers, as they get through a lot of food and create a lot of waste. It's thought that Koi were accidentally imported into New Zealand in the 1960s, as the shipment was meant to be goldfish, but also contains some Koi, and later on in 1983, the first wild Koi were found in New Zealand's rivers. It's thought that they spread through illegal introduction, and also escaping during large floods. And New Zealand's freshable to ecosystems are quite unique, as they're usually full of small native fish that aren't found anywhere else in the world. To a new alien invader would have almost nothing to fear in these waters. And Koi are very similar to the common carp, and often cause the same problems, as they stir up the bottom of ponds and lakes, muddying the water and creating algal blooms. But Koi also opportunistic feeders, and will feed on the native invertebrates, small fish, and fish eggs. But to help tackle this invasion, people will encourage to bow hunt for this species, and luckily there is one predator that can take on a Koi carp, and that is the long fin eel. And as this species can reach 1.5m long, they're more than able to take on your average sized Koi. So hopefully with the help from these deals, the Koi's numbers can be kept under control. And again, our next species can be found almost anywhere, as we have rats. Now there are three species of rats that can be found on New Zealand today, the Polynesian Rat, the Norway Rat, and the Black Rat. Rats are known for being almost bulletproof, and can survive in some of the worst conditions, as they often seen springing out of sewers, and from alleyways in and around cities. And to be a small mammal living in a city, you have to be quite intelligent to avoid all the dangers, and to find food. It's thought that these rats arrived in New Zealand, with the European settlers in the mid to late 18th and 19th century, and if you were a wily rat arriving in New Zealand, you have an easy life ahead of you, as they're known to eat native invertebrates such as the wetter, and also lizards, birds, and bats. And since they're in deduction, it's thought that they've caused the extinction of many different bird species, and has rats are notoriously hard to get rid of, it looks like they're going to be a problem for many years to come. But an expecies is native to the freshwater of Eurasia, and it is the common rod. Now this species is often confused with the roach, but one of the few ways in which you can tell them apart, is that the roach has a bluish tinge to its body, and the rod has an upward facing mouth. And in the freshwater of Eurasia, this is a pretty unspectacular species. They reach a maximum size around 45cm, and find themselves in the middle of the food chain, being fed on by larger predators such as pike and catfish, and feeding on aquatic vegetation, and small invertebrates. The rod was illegally introduced into New Zealand in 1967, as a private consignment of juvenile rod was snuck into the country, where they were reared to adulthood, and encouraged to breed. These fish were deliberately and strategically introduced into a number of lakes and ponds, a fishing purposes, and as I've covered New Zealand has a very fragile freshwater ecosystem, mainly full of smaller fish. Nowadays the rod is known as the possum of the waterways, as they've been able to breed in large numbers, mostly uncontrolled. The rod mainly feed on native aquatic plants, as well as zoo plankton, and this destroys habitats, and also means that there's less food to go around for the native species. And as the rod is much larger than most of these species, it is easily able to outcompete them, and cause their numbers to decline, and as females can produce 50,000 eggs per kilogram, they really are hard species to eradicate. But again, our final species can be found pretty much anywhere, as it is the cat. Now when most people think of invasive species, they think of large wild animals invading from other countries. But one of the worst invasive species in the world could be sat right next to you, as although there are pets, many of them do interact and play a role in the ecosystem. Most owners only see the soft side of their cats, so it's easy to forget that they're also efficient hunters, feeding on many different species of birds and rodents. It's thought that the first domesticated cat arrived in New Zealand, on Captain James Cook's ship, the HMS Endeavour, but were established by European settlers a century later, and today there is an estimated 1.4 million domesticated cats in New Zealand, with almost a half of all households owning at least one cat. And New Zealand is home to many different species of flightless bird, such as the Kiwi, and my favourite animal, the Kakapo. These birds have had no need to fly, as there have been no native bird eating predators on New Zealand for millions of years. And as there's been no predators on the islands for such a long time, they're often fearless, and were walk up to humans and cats, with no fear at all, and this behaviour is what's led to them being so loved. As they've been described as being more like a dog than a bird, but unfortunately because of their inability to deal with invasive species, and their over-friendly nature, a Kakapo is now critically endangered, and they're ongoing conservation efforts to help save this species. And I'll leave a link to one of their denotions pages in the description below, but controlling a domesticated species such as the cat is very complicated, as no one wants to hear that they can't keep their pets anymore, or that they have to be kept inside, and as many cats run away from home and become feral, they're even able to reproduce on the streets or in the wild, making it even harder for the native birds of New Zealand. So although they may be your best friend, they can still have disastrous consequences for the ecosystem. But that's about it for this video, leave your suggestion for the location you want me to cover in the next episode, down in the comments below, and I'll try and get around to them as soon as I can. But thank you for watching, I hope you enjoyed, if you liked it, please leave a like, and subscribe if you want to see more videos like these. But until next time, goodbye.\", metadata={'source': 'transcription.txt'})]"
      ]
     },
     "execution_count": 12,
     "metadata": {},
     "output_type": "execute_result"
    }
   ],
   "source": [
    "from langchain_community.document_loaders import TextLoader\n",
    "\n",
    "loader = TextLoader(\"transcription.txt\")\n",
    "text_documents = loader.load()\n",
    "text_documents"
   ]
  },
  {
   "cell_type": "markdown",
   "metadata": {},
   "source": [
    "For illustration purposes, let's split the transcription into chunks of 100 characters with an overlap of 20 characters and display the first few chunks:"
   ]
  },
  {
   "cell_type": "code",
   "execution_count": 13,
   "metadata": {},
   "outputs": [
    {
     "data": {
      "text/plain": [
       "[Document(page_content=\"Hello everyone, I hope you're doing well and of course Arnie does too. Now for today's invasive\", metadata={'source': 'transcription.txt'}),\n",
       " Document(page_content=\"today's invasive species episode, we'll be heading to the beautiful country of New Zealand. Now New\", metadata={'source': 'transcription.txt'}),\n",
       " Document(page_content=\"Zealand. Now New Zealand's been separated from the rest of the world for around 20 million years,\", metadata={'source': 'transcription.txt'}),\n",
       " Document(page_content='20 million years, and because of this it has a very fragile leaco system, which is mainly dominated', metadata={'source': 'transcription.txt'}),\n",
       " Document(page_content='is mainly dominated by large birds, and as there are only two native species of mammal on New', metadata={'source': 'transcription.txt'})]"
      ]
     },
     "execution_count": 13,
     "metadata": {},
     "output_type": "execute_result"
    }
   ],
   "source": [
    "from langchain.text_splitter import RecursiveCharacterTextSplitter\n",
    "\n",
    "text_splitter = RecursiveCharacterTextSplitter(chunk_size=100, chunk_overlap=20)\n",
    "text_splitter.split_documents(text_documents)[:5]"
   ]
  },
  {
   "cell_type": "markdown",
   "metadata": {},
   "source": [
    "For our specific application, let's use 1000 characters instead:"
   ]
  },
  {
   "cell_type": "code",
   "execution_count": 14,
   "metadata": {},
   "outputs": [],
   "source": [
    "\n",
    "text_splitter = RecursiveCharacterTextSplitter(chunk_size=1000, chunk_overlap=20)\n",
    "documents = text_splitter.split_documents(text_documents)"
   ]
  },
  {
   "cell_type": "markdown",
   "metadata": {},
   "source": [
    "Finding the relevant chunks\n",
    "An embedding is a mathematical representation of the semantic meaning of a word, sentence, or document. It's a projection of a concept in a high-dimensional space. Embeddings have a simple characteristic: The projection of related concepts will be close to each other, while concepts with different meanings will lie far away. "
   ]
  },
  {
   "cell_type": "code",
   "execution_count": 15,
   "metadata": {},
   "outputs": [
    {
     "name": "stdout",
     "output_type": "stream",
     "text": [
      "Embedding length: 1536\n",
      "[-0.0005827715982723488, -0.000609202125017647, -0.010308774936689582, -0.006866739009750113, -0.00865188318795792, 0.010613809151499412, -0.017026463221596032, -0.001454979155490167, 0.012284565499153532, -0.025844728115881323]\n"
     ]
    }
   ],
   "source": [
    "from langchain_openai import OpenAIEmbeddings\n",
    "\n",
    "embeddings = OpenAIEmbeddings()\n",
    "embedded_query = embeddings.embed_query(\"What is a Haast Tokoeka?\")\n",
    "\n",
    "print(f\"Embedding length: {len(embedded_query)}\")\n",
    "print(embedded_query[:10])"
   ]
  },
  {
   "cell_type": "markdown",
   "metadata": {},
   "source": [
    "To illustrate how embeddings work, let's first generate the embeddings for two different sentences:"
   ]
  },
  {
   "cell_type": "code",
   "execution_count": 16,
   "metadata": {},
   "outputs": [],
   "source": [
    "sentence1 = embeddings.embed_query(\"Privet causes allergies and displaces natives.\")\n",
    "sentence2 = embeddings.embed_query(\"Wētā are large, nocturnal insects found in forests.\")"
   ]
  },
  {
   "cell_type": "code",
   "execution_count": 17,
   "metadata": {},
   "outputs": [
    {
     "data": {
      "text/plain": [
       "(0.7057594036532578, 0.7454599451763385)"
      ]
     },
     "execution_count": 17,
     "metadata": {},
     "output_type": "execute_result"
    }
   ],
   "source": [
    "from sklearn.metrics.pairwise import cosine_similarity\n",
    "\n",
    "query_sentence1_similarity = cosine_similarity([embedded_query], [sentence1])[0][0]\n",
    "query_sentence2_similarity = cosine_similarity([embedded_query], [sentence2])[0][0]\n",
    "\n",
    "query_sentence1_similarity, query_sentence2_similarity"
   ]
  },
  {
   "cell_type": "markdown",
   "metadata": {},
   "source": [
    "To understand how a vector store works, let's create one in memory and add a few embeddings to it:"
   ]
  },
  {
   "cell_type": "code",
   "execution_count": 18,
   "metadata": {},
   "outputs": [],
   "source": [
    "from langchain_community.vectorstores import DocArrayInMemorySearch\n",
    "\n",
    "vectorstore1 = DocArrayInMemorySearch.from_texts(\n",
    "    [\n",
    "        \"Tuatara are ancient reptiles, unique to NZ.\",\n",
    "        \"Wilding pines threaten native ecosystems.\",\n",
    "        \"Kākāpō parrots are critically endangered\",\n",
    "        \"Gorse spreads rapidly, overtaking native plants.\",\n",
    "        \"Kiwi birds are nocturnal and flightless.\",\n",
    "        \"Lavish costumes and grand ball scenes.\",\n",
    "        \"Regency romance drama set in London.\",\n",
    "    ],\n",
    "    embedding=embeddings,\n",
    ")"
   ]
  },
  {
   "cell_type": "markdown",
   "metadata": {},
   "source": [
    "\n",
    "We can now query the vector store to find the most similar embeddings to a given query:"
   ]
  },
  {
   "cell_type": "code",
   "execution_count": 19,
   "metadata": {},
   "outputs": [
    {
     "data": {
      "text/plain": [
       "[(Document(page_content='Gorse spreads rapidly, overtaking native plants.'),\n",
       "  0.8655200667524214),\n",
       " (Document(page_content='Wilding pines threaten native ecosystems.'),\n",
       "  0.8512902803512785),\n",
       " (Document(page_content='Kākāpō parrots are critically endangered'),\n",
       "  0.7793268980999815)]"
      ]
     },
     "execution_count": 19,
     "metadata": {},
     "output_type": "execute_result"
    }
   ],
   "source": [
    "vectorstore1.similarity_search_with_score(query=\"Old Man's Beard smothers native vegetation.\", k=3)"
   ]
  },
  {
   "cell_type": "markdown",
   "metadata": {},
   "source": [
    "Connecting the vector store to the chain\n",
    "We can use the vector store to find the most relevant chunks from the transcription to send to the model. Here is how we can connect the vector store to the chain:"
   ]
  },
  {
   "cell_type": "code",
   "execution_count": 20,
   "metadata": {},
   "outputs": [
    {
     "data": {
      "text/plain": [
       "[Document(page_content='Tuatara are ancient reptiles, unique to NZ.'),\n",
       " Document(page_content='Kiwi birds are nocturnal and flightless.'),\n",
       " Document(page_content='Kākāpō parrots are critically endangered'),\n",
       " Document(page_content='Wilding pines threaten native ecosystems.')]"
      ]
     },
     "execution_count": 20,
     "metadata": {},
     "output_type": "execute_result"
    }
   ],
   "source": [
    "retriever1 = vectorstore1.as_retriever()\n",
    "retriever1.invoke(\"What are Tuatara?\")"
   ]
  },
  {
   "cell_type": "markdown",
   "metadata": {},
   "source": [
    "\n",
    "Our prompt expects two parameters, \"context\" and \"question.\" We can use the retriever to find the chunks we'll use as the context to answer the question.\n",
    "\n",
    "We can create a map with the two inputs by using the RunnableParallel and RunnablePassthrough classes. This will allow us to pass the context and question to the prompt as a map with the keys \"context\" and \"question.\""
   ]
  },
  {
   "cell_type": "code",
   "execution_count": 21,
   "metadata": {},
   "outputs": [
    {
     "data": {
      "text/plain": [
       "{'context': [Document(page_content='Tuatara are ancient reptiles, unique to NZ.'),\n",
       "  Document(page_content='Kiwi birds are nocturnal and flightless.'),\n",
       "  Document(page_content='Kākāpō parrots are critically endangered'),\n",
       "  Document(page_content='Wilding pines threaten native ecosystems.')],\n",
       " 'question': 'What are Tuatara?'}"
      ]
     },
     "execution_count": 21,
     "metadata": {},
     "output_type": "execute_result"
    }
   ],
   "source": [
    "from langchain_core.runnables import RunnableParallel, RunnablePassthrough\n",
    "\n",
    "setup = RunnableParallel(context=retriever1, question=RunnablePassthrough())\n",
    "setup.invoke(\"What are Tuatara?\")"
   ]
  },
  {
   "cell_type": "code",
   "execution_count": 22,
   "metadata": {},
   "outputs": [
    {
     "data": {
      "text/plain": [
       "'Tuatara are ancient reptiles, unique to NZ.'"
      ]
     },
     "execution_count": 22,
     "metadata": {},
     "output_type": "execute_result"
    }
   ],
   "source": [
    "chain = setup | prompt | model | parser\n",
    "chain.invoke(\"What are Tuatara?\")"
   ]
  },
  {
   "cell_type": "code",
   "execution_count": 23,
   "metadata": {},
   "outputs": [
    {
     "data": {
      "text/plain": [
       "'Kākāpō is a parrot.'"
      ]
     },
     "execution_count": 23,
     "metadata": {},
     "output_type": "execute_result"
    }
   ],
   "source": [
    "chain.invoke(\"What animal is a Kākāpō?\")"
   ]
  },
  {
   "cell_type": "markdown",
   "metadata": {},
   "source": [
    "Loading transcription into the vector store"
   ]
  },
  {
   "cell_type": "code",
   "execution_count": 24,
   "metadata": {},
   "outputs": [],
   "source": [
    "vectorstore2 = DocArrayInMemorySearch.from_documents(documents, embeddings)"
   ]
  },
  {
   "cell_type": "code",
   "execution_count": 25,
   "metadata": {},
   "outputs": [
    {
     "data": {
      "text/plain": [
       "'The brushtail possum was first introduced into New Zealand in 1837.'"
      ]
     },
     "execution_count": 25,
     "metadata": {},
     "output_type": "execute_result"
    }
   ],
   "source": [
    "chain = (\n",
    "    {\"context\": vectorstore2.as_retriever(), \"question\": RunnablePassthrough()}\n",
    "    | prompt\n",
    "    | model\n",
    "    | parser\n",
    ")\n",
    "chain.invoke(\"When was the brushtail possum introduced to NZ?\")"
   ]
  },
  {
   "cell_type": "markdown",
   "metadata": {},
   "source": [
    "Setting up Pinecone"
   ]
  },
  {
   "cell_type": "code",
   "execution_count": 26,
   "metadata": {},
   "outputs": [],
   "source": [
    "PINECONE_API_KEY = os.getenv(\"PINECONE_API_KEY\")"
   ]
  },
  {
   "cell_type": "code",
   "execution_count": 27,
   "metadata": {},
   "outputs": [],
   "source": [
    "from langchain_pinecone import PineconeVectorStore\n",
    "\n",
    "index_name = \"youtube-index\"\n",
    "\n",
    "pinecone = PineconeVectorStore.from_documents(\n",
    "    documents, embeddings, index_name=index_name\n",
    ")"
   ]
  },
  {
   "cell_type": "code",
   "execution_count": 28,
   "metadata": {},
   "outputs": [
    {
     "data": {
      "text/plain": [
       "[Document(page_content=\"very similar to the common carp, and often cause the same problems, as they stir up the bottom of ponds and lakes, muddying the water and creating algal blooms. But Koi also opportunistic feeders, and will feed on the native invertebrates, small fish, and fish eggs. But to help tackle this invasion, people will encourage to bow hunt for this species, and luckily there is one predator that can take on a Koi carp, and that is the long fin eel. And as this species can reach 1.5m long, they're more than able to take on your average sized Koi. So hopefully with the help from these deals, the Koi's numbers can be kept under control. And again, our next species can be found almost anywhere, as we have rats. Now there are three species of rats that can be found on New Zealand today, the Polynesian Rat, the Norway Rat, and the Black Rat. Rats are known for being almost bulletproof, and can survive in some of the worst conditions, as they often seen springing out of sewers, and from alleyways\", metadata={'source': 'transcription.txt'}),\n",
       " Document(page_content=\"very similar to the common carp, and often cause the same problems, as they stir up the bottom of ponds and lakes, muddying the water and creating algal blooms. But Koi also opportunistic feeders, and will feed on the native invertebrates, small fish, and fish eggs. But to help tackle this invasion, people will encourage to bow hunt for this species, and luckily there is one predator that can take on a Koi carp, and that is the long fin eel. And as this species can reach 1.5m long, they're more than able to take on your average sized Koi. So hopefully with the help from these deals, the Koi's numbers can be kept under control. And again, our next species can be found almost anywhere, as we have rats. Now there are three species of rats that can be found on New Zealand today, the Polynesian Rat, the Norway Rat, and the Black Rat. Rats are known for being almost bulletproof, and can survive in some of the worst conditions, as they often seen springing out of sewers, and from alleyways\", metadata={'source': 'transcription.txt'}),\n",
       " Document(page_content=\"to not only New Zealand, but many other ecosystem around the world. Organized Koi breeding began in Japan in the early 19th century, and since then many strains have been created, and high quality Koi can sell for millions. And as Koi can reach a maximum size of around a meter of 39 inches, they can really damage the health of New Zealand's rivers, as they get through a lot of food and create a lot of waste. It's thought that Koi were accidentally imported into New Zealand in the 1960s, as the shipment was meant to be goldfish, but also contains some Koi, and later on in 1983, the first wild Koi were found in New Zealand's rivers. It's thought that they spread through illegal introduction, and also escaping during large floods. And New Zealand's freshable to ecosystems are quite unique, as they're usually full of small native fish that aren't found anywhere else in the world. To a new alien invader would have almost nothing to fear in these waters. And Koi are very similar to the\", metadata={'source': 'transcription.txt'})]"
      ]
     },
     "execution_count": 28,
     "metadata": {},
     "output_type": "execute_result"
    }
   ],
   "source": [
    "pinecone.similarity_search(\"What problems do Koi cause?\")[:3]"
   ]
  },
  {
   "cell_type": "code",
   "execution_count": 29,
   "metadata": {},
   "outputs": [
    {
     "data": {
      "text/plain": [
       "'Koi often stir up the bottom of ponds and lakes, muddying the water and creating algal blooms. They also feed on native invertebrates, small fish, and fish eggs.'"
      ]
     },
     "execution_count": 29,
     "metadata": {},
     "output_type": "execute_result"
    }
   ],
   "source": [
    "chain = (\n",
    "    {\"context\": pinecone.as_retriever(), \"question\": RunnablePassthrough()}\n",
    "    | prompt\n",
    "    | model\n",
    "    | parser\n",
    ")\n",
    "\n",
    "chain.invoke(\"What problems do Koi cause?\")"
   ]
  },
  {
   "cell_type": "code",
   "execution_count": 30,
   "metadata": {},
   "outputs": [
    {
     "name": "stdout",
     "output_type": "stream",
     "text": [
      "K-Cats other in New Zealand. How many domesticated cats other in New Zealand?\n"
     ]
    }
   ],
   "source": [
    "\n",
    "audio = \".../question.mp3\"\n",
    "\n",
    "# Load the Whisper model\n",
    "whisper_model = whisper.load_model(\"base\")\n",
    "\n",
    "# Transcribe the audio file\n",
    "transcription = whisper_model.transcribe(audio, fp16=False)[\"text\"].strip()\n",
    "\n",
    "# Store the transcription in a string variable\n",
    "transcription_string = transcription\n",
    "\n",
    "# Print the transcription string (optional)\n",
    "print(transcription_string)"
   ]
  },
  {
   "cell_type": "code",
   "execution_count": 31,
   "metadata": {},
   "outputs": [
    {
     "data": {
      "text/plain": [
       "'There are 1.4 million domesticated cats in New Zealand.'"
      ]
     },
     "execution_count": 31,
     "metadata": {},
     "output_type": "execute_result"
    }
   ],
   "source": [
    "chain.invoke(transcription_string)"
   ]
  }
 ],
 "metadata": {
  "kernelspec": {
   "display_name": "slack_ai",
   "language": "python",
   "name": "python3"
  },
  "language_info": {
   "codemirror_mode": {
    "name": "ipython",
    "version": 3
   },
   "file_extension": ".py",
   "mimetype": "text/x-python",
   "name": "python",
   "nbconvert_exporter": "python",
   "pygments_lexer": "ipython3",
   "version": "3.10.14"
  }
 },
 "nbformat": 4,
 "nbformat_minor": 2
}
